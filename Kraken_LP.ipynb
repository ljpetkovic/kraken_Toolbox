{
  "cells": [
    {
      "cell_type": "code",
      "source": [
        ""
      ],
      "metadata": {
        "id": "Npa6AHFhvUfU"
      },
      "execution_count": null,
      "outputs": []
    },
    {
      "cell_type": "markdown",
      "metadata": {
        "id": "h1GqwnvaQoDb"
      },
      "source": [
        "## Installer et importer la librairie"
      ]
    },
    {
      "cell_type": "code",
      "execution_count": null,
      "metadata": {
        "colab": {
          "base_uri": "https://localhost:8080/"
        },
        "id": "lgzba8QACzB-",
        "outputId": "345b95a0-0322-4fcc-a575-b41870a1de1b"
      },
      "outputs": [
        {
          "output_type": "stream",
          "name": "stdout",
          "text": [
            "Collecting kraken\n",
            "  Downloading kraken-4.1.2-py3-none-any.whl (5.4 MB)\n",
            "\u001b[K     |████████████████████████████████| 5.4 MB 5.3 MB/s \n",
            "\u001b[?25hRequirement already satisfied: Pillow>=6.2.2 in /usr/local/lib/python3.7/dist-packages (from kraken) (7.1.2)\n",
            "Collecting coremltools>=3.3\n",
            "  Downloading coremltools-5.2.0-cp37-none-manylinux1_x86_64.whl (1.6 MB)\n",
            "\u001b[K     |████████████████████████████████| 1.6 MB 40.2 MB/s \n",
            "\u001b[?25hRequirement already satisfied: protobuf>=3.0.0 in /usr/local/lib/python3.7/dist-packages (from kraken) (3.17.3)\n",
            "Requirement already satisfied: scipy in /usr/local/lib/python3.7/dist-packages (from kraken) (1.4.1)\n",
            "Collecting click>=8.1\n",
            "  Downloading click-8.1.3-py3-none-any.whl (96 kB)\n",
            "\u001b[K     |████████████████████████████████| 96 kB 2.9 MB/s \n",
            "\u001b[?25hCollecting rich\n",
            "  Downloading rich-12.4.1-py3-none-any.whl (231 kB)\n",
            "\u001b[K     |████████████████████████████████| 231 kB 36.7 MB/s \n",
            "\u001b[?25hRequirement already satisfied: requests in /usr/local/lib/python3.7/dist-packages (from kraken) (2.23.0)\n",
            "Requirement already satisfied: scikit-image<=0.19.2,>=0.17.0 in /usr/local/lib/python3.7/dist-packages (from kraken) (0.18.3)\n",
            "Requirement already satisfied: lxml in /usr/local/lib/python3.7/dist-packages (from kraken) (4.2.6)\n",
            "Requirement already satisfied: jinja2 in /usr/local/lib/python3.7/dist-packages (from kraken) (2.11.3)\n",
            "Requirement already satisfied: torch<=1.11,>=1.7.1 in /usr/local/lib/python3.7/dist-packages (from kraken) (1.11.0+cu113)\n",
            "Collecting pytorch-lightning\n",
            "  Downloading pytorch_lightning-1.6.3-py3-none-any.whl (584 kB)\n",
            "\u001b[K     |████████████████████████████████| 584 kB 31.0 MB/s \n",
            "\u001b[?25hRequirement already satisfied: shapely>=1.7 in /usr/local/lib/python3.7/dist-packages (from kraken) (1.8.2)\n",
            "Collecting python-bidi\n",
            "  Downloading python_bidi-0.4.2-py2.py3-none-any.whl (30 kB)\n",
            "Requirement already satisfied: regex in /usr/local/lib/python3.7/dist-packages (from kraken) (2019.12.20)\n",
            "Requirement already satisfied: numpy in /usr/local/lib/python3.7/dist-packages (from kraken) (1.21.6)\n",
            "Requirement already satisfied: jsonschema in /usr/local/lib/python3.7/dist-packages (from kraken) (4.3.3)\n",
            "Requirement already satisfied: pyarrow in /usr/local/lib/python3.7/dist-packages (from kraken) (6.0.1)\n",
            "Requirement already satisfied: torchvision>=0.5.0 in /usr/local/lib/python3.7/dist-packages (from kraken) (0.12.0+cu113)\n",
            "Requirement already satisfied: importlib-metadata in /usr/local/lib/python3.7/dist-packages (from click>=8.1->kraken) (4.11.3)\n",
            "Requirement already satisfied: tqdm in /usr/local/lib/python3.7/dist-packages (from coremltools>=3.3->kraken) (4.64.0)\n",
            "Requirement already satisfied: sympy in /usr/local/lib/python3.7/dist-packages (from coremltools>=3.3->kraken) (1.7.1)\n",
            "Requirement already satisfied: packaging in /usr/local/lib/python3.7/dist-packages (from coremltools>=3.3->kraken) (21.3)\n",
            "Requirement already satisfied: six>=1.9 in /usr/local/lib/python3.7/dist-packages (from protobuf>=3.0.0->kraken) (1.15.0)\n",
            "Requirement already satisfied: matplotlib!=3.0.0,>=2.0.0 in /usr/local/lib/python3.7/dist-packages (from scikit-image<=0.19.2,>=0.17.0->kraken) (3.2.2)\n",
            "Requirement already satisfied: networkx>=2.0 in /usr/local/lib/python3.7/dist-packages (from scikit-image<=0.19.2,>=0.17.0->kraken) (2.6.3)\n",
            "Requirement already satisfied: tifffile>=2019.7.26 in /usr/local/lib/python3.7/dist-packages (from scikit-image<=0.19.2,>=0.17.0->kraken) (2021.11.2)\n",
            "Requirement already satisfied: imageio>=2.3.0 in /usr/local/lib/python3.7/dist-packages (from scikit-image<=0.19.2,>=0.17.0->kraken) (2.4.1)\n",
            "Requirement already satisfied: PyWavelets>=1.1.1 in /usr/local/lib/python3.7/dist-packages (from scikit-image<=0.19.2,>=0.17.0->kraken) (1.3.0)\n",
            "Requirement already satisfied: cycler>=0.10 in /usr/local/lib/python3.7/dist-packages (from matplotlib!=3.0.0,>=2.0.0->scikit-image<=0.19.2,>=0.17.0->kraken) (0.11.0)\n",
            "Requirement already satisfied: kiwisolver>=1.0.1 in /usr/local/lib/python3.7/dist-packages (from matplotlib!=3.0.0,>=2.0.0->scikit-image<=0.19.2,>=0.17.0->kraken) (1.4.2)\n",
            "Requirement already satisfied: pyparsing!=2.0.4,!=2.1.2,!=2.1.6,>=2.0.1 in /usr/local/lib/python3.7/dist-packages (from matplotlib!=3.0.0,>=2.0.0->scikit-image<=0.19.2,>=0.17.0->kraken) (3.0.9)\n",
            "Requirement already satisfied: python-dateutil>=2.1 in /usr/local/lib/python3.7/dist-packages (from matplotlib!=3.0.0,>=2.0.0->scikit-image<=0.19.2,>=0.17.0->kraken) (2.8.2)\n",
            "Requirement already satisfied: typing-extensions in /usr/local/lib/python3.7/dist-packages (from kiwisolver>=1.0.1->matplotlib!=3.0.0,>=2.0.0->scikit-image<=0.19.2,>=0.17.0->kraken) (4.2.0)\n",
            "Requirement already satisfied: zipp>=0.5 in /usr/local/lib/python3.7/dist-packages (from importlib-metadata->click>=8.1->kraken) (3.8.0)\n",
            "Requirement already satisfied: MarkupSafe>=0.23 in /usr/local/lib/python3.7/dist-packages (from jinja2->kraken) (2.0.1)\n",
            "Requirement already satisfied: pyrsistent!=0.17.0,!=0.17.1,!=0.17.2,>=0.14.0 in /usr/local/lib/python3.7/dist-packages (from jsonschema->kraken) (0.18.1)\n",
            "Requirement already satisfied: importlib-resources>=1.4.0 in /usr/local/lib/python3.7/dist-packages (from jsonschema->kraken) (5.7.1)\n",
            "Requirement already satisfied: attrs>=17.4.0 in /usr/local/lib/python3.7/dist-packages (from jsonschema->kraken) (21.4.0)\n",
            "Collecting pyDeprecate<0.4.0,>=0.3.1\n",
            "  Downloading pyDeprecate-0.3.2-py3-none-any.whl (10 kB)\n",
            "Collecting fsspec[http]!=2021.06.0,>=2021.05.0\n",
            "  Downloading fsspec-2022.5.0-py3-none-any.whl (140 kB)\n",
            "\u001b[K     |████████████████████████████████| 140 kB 66.7 MB/s \n",
            "\u001b[?25hRequirement already satisfied: tensorboard>=2.2.0 in /usr/local/lib/python3.7/dist-packages (from pytorch-lightning->kraken) (2.8.0)\n",
            "Collecting torchmetrics>=0.4.1\n",
            "  Downloading torchmetrics-0.8.2-py3-none-any.whl (409 kB)\n",
            "\u001b[K     |████████████████████████████████| 409 kB 60.0 MB/s \n",
            "\u001b[?25hCollecting PyYAML>=5.4\n",
            "  Downloading PyYAML-6.0-cp37-cp37m-manylinux_2_5_x86_64.manylinux1_x86_64.manylinux_2_12_x86_64.manylinux2010_x86_64.whl (596 kB)\n",
            "\u001b[K     |████████████████████████████████| 596 kB 59.7 MB/s \n",
            "\u001b[?25hCollecting aiohttp\n",
            "  Downloading aiohttp-3.8.1-cp37-cp37m-manylinux_2_5_x86_64.manylinux1_x86_64.manylinux_2_12_x86_64.manylinux2010_x86_64.whl (1.1 MB)\n",
            "\u001b[K     |████████████████████████████████| 1.1 MB 43.3 MB/s \n",
            "\u001b[?25hRequirement already satisfied: werkzeug>=0.11.15 in /usr/local/lib/python3.7/dist-packages (from tensorboard>=2.2.0->pytorch-lightning->kraken) (1.0.1)\n",
            "Requirement already satisfied: tensorboard-data-server<0.7.0,>=0.6.0 in /usr/local/lib/python3.7/dist-packages (from tensorboard>=2.2.0->pytorch-lightning->kraken) (0.6.1)\n",
            "Requirement already satisfied: google-auth-oauthlib<0.5,>=0.4.1 in /usr/local/lib/python3.7/dist-packages (from tensorboard>=2.2.0->pytorch-lightning->kraken) (0.4.6)\n",
            "Requirement already satisfied: tensorboard-plugin-wit>=1.6.0 in /usr/local/lib/python3.7/dist-packages (from tensorboard>=2.2.0->pytorch-lightning->kraken) (1.8.1)\n",
            "Requirement already satisfied: absl-py>=0.4 in /usr/local/lib/python3.7/dist-packages (from tensorboard>=2.2.0->pytorch-lightning->kraken) (1.0.0)\n",
            "Requirement already satisfied: wheel>=0.26 in /usr/local/lib/python3.7/dist-packages (from tensorboard>=2.2.0->pytorch-lightning->kraken) (0.37.1)\n",
            "Requirement already satisfied: setuptools>=41.0.0 in /usr/local/lib/python3.7/dist-packages (from tensorboard>=2.2.0->pytorch-lightning->kraken) (57.4.0)\n",
            "Requirement already satisfied: google-auth<3,>=1.6.3 in /usr/local/lib/python3.7/dist-packages (from tensorboard>=2.2.0->pytorch-lightning->kraken) (1.35.0)\n",
            "Requirement already satisfied: grpcio>=1.24.3 in /usr/local/lib/python3.7/dist-packages (from tensorboard>=2.2.0->pytorch-lightning->kraken) (1.46.1)\n",
            "Requirement already satisfied: markdown>=2.6.8 in /usr/local/lib/python3.7/dist-packages (from tensorboard>=2.2.0->pytorch-lightning->kraken) (3.3.7)\n",
            "Requirement already satisfied: rsa<5,>=3.1.4 in /usr/local/lib/python3.7/dist-packages (from google-auth<3,>=1.6.3->tensorboard>=2.2.0->pytorch-lightning->kraken) (4.8)\n",
            "Requirement already satisfied: pyasn1-modules>=0.2.1 in /usr/local/lib/python3.7/dist-packages (from google-auth<3,>=1.6.3->tensorboard>=2.2.0->pytorch-lightning->kraken) (0.2.8)\n",
            "Requirement already satisfied: cachetools<5.0,>=2.0.0 in /usr/local/lib/python3.7/dist-packages (from google-auth<3,>=1.6.3->tensorboard>=2.2.0->pytorch-lightning->kraken) (4.2.4)\n",
            "Requirement already satisfied: requests-oauthlib>=0.7.0 in /usr/local/lib/python3.7/dist-packages (from google-auth-oauthlib<0.5,>=0.4.1->tensorboard>=2.2.0->pytorch-lightning->kraken) (1.3.1)\n",
            "Requirement already satisfied: pyasn1<0.5.0,>=0.4.6 in /usr/local/lib/python3.7/dist-packages (from pyasn1-modules>=0.2.1->google-auth<3,>=1.6.3->tensorboard>=2.2.0->pytorch-lightning->kraken) (0.4.8)\n",
            "Requirement already satisfied: urllib3!=1.25.0,!=1.25.1,<1.26,>=1.21.1 in /usr/local/lib/python3.7/dist-packages (from requests->kraken) (1.24.3)\n",
            "Requirement already satisfied: certifi>=2017.4.17 in /usr/local/lib/python3.7/dist-packages (from requests->kraken) (2021.10.8)\n",
            "Requirement already satisfied: idna<3,>=2.5 in /usr/local/lib/python3.7/dist-packages (from requests->kraken) (2.10)\n",
            "Requirement already satisfied: chardet<4,>=3.0.2 in /usr/local/lib/python3.7/dist-packages (from requests->kraken) (3.0.4)\n",
            "Requirement already satisfied: oauthlib>=3.0.0 in /usr/local/lib/python3.7/dist-packages (from requests-oauthlib>=0.7.0->google-auth-oauthlib<0.5,>=0.4.1->tensorboard>=2.2.0->pytorch-lightning->kraken) (3.2.0)\n",
            "Collecting frozenlist>=1.1.1\n",
            "  Downloading frozenlist-1.3.0-cp37-cp37m-manylinux_2_5_x86_64.manylinux1_x86_64.manylinux_2_17_x86_64.manylinux2014_x86_64.whl (144 kB)\n",
            "\u001b[K     |████████████████████████████████| 144 kB 62.8 MB/s \n",
            "\u001b[?25hCollecting multidict<7.0,>=4.5\n",
            "  Downloading multidict-6.0.2-cp37-cp37m-manylinux_2_17_x86_64.manylinux2014_x86_64.whl (94 kB)\n",
            "\u001b[K     |████████████████████████████████| 94 kB 3.7 MB/s \n",
            "\u001b[?25hCollecting asynctest==0.13.0\n",
            "  Downloading asynctest-0.13.0-py3-none-any.whl (26 kB)\n",
            "Collecting aiosignal>=1.1.2\n",
            "  Downloading aiosignal-1.2.0-py3-none-any.whl (8.2 kB)\n",
            "Collecting async-timeout<5.0,>=4.0.0a3\n",
            "  Downloading async_timeout-4.0.2-py3-none-any.whl (5.8 kB)\n",
            "Requirement already satisfied: charset-normalizer<3.0,>=2.0 in /usr/local/lib/python3.7/dist-packages (from aiohttp->fsspec[http]!=2021.06.0,>=2021.05.0->pytorch-lightning->kraken) (2.0.12)\n",
            "Collecting yarl<2.0,>=1.0\n",
            "  Downloading yarl-1.7.2-cp37-cp37m-manylinux_2_5_x86_64.manylinux1_x86_64.manylinux_2_12_x86_64.manylinux2010_x86_64.whl (271 kB)\n",
            "\u001b[K     |████████████████████████████████| 271 kB 55.2 MB/s \n",
            "\u001b[?25hRequirement already satisfied: pygments<3.0.0,>=2.6.0 in /usr/local/lib/python3.7/dist-packages (from rich->kraken) (2.6.1)\n",
            "Collecting commonmark<0.10.0,>=0.9.0\n",
            "  Downloading commonmark-0.9.1-py2.py3-none-any.whl (51 kB)\n",
            "\u001b[K     |████████████████████████████████| 51 kB 6.8 MB/s \n",
            "\u001b[?25hRequirement already satisfied: mpmath>=0.19 in /usr/local/lib/python3.7/dist-packages (from sympy->coremltools>=3.3->kraken) (1.2.1)\n",
            "Installing collected packages: multidict, frozenlist, yarl, asynctest, async-timeout, aiosignal, pyDeprecate, fsspec, aiohttp, torchmetrics, PyYAML, commonmark, rich, pytorch-lightning, python-bidi, coremltools, click, kraken\n",
            "  Attempting uninstall: PyYAML\n",
            "    Found existing installation: PyYAML 3.13\n",
            "    Uninstalling PyYAML-3.13:\n",
            "      Successfully uninstalled PyYAML-3.13\n",
            "  Attempting uninstall: click\n",
            "    Found existing installation: click 7.1.2\n",
            "    Uninstalling click-7.1.2:\n",
            "      Successfully uninstalled click-7.1.2\n",
            "\u001b[31mERROR: pip's dependency resolver does not currently take into account all the packages that are installed. This behaviour is the source of the following dependency conflicts.\n",
            "flask 1.1.4 requires click<8.0,>=5.1, but you have click 8.1.3 which is incompatible.\u001b[0m\n",
            "Successfully installed PyYAML-6.0 aiohttp-3.8.1 aiosignal-1.2.0 async-timeout-4.0.2 asynctest-0.13.0 click-8.1.3 commonmark-0.9.1 coremltools-5.2.0 frozenlist-1.3.0 fsspec-2022.5.0 kraken-4.1.2 multidict-6.0.2 pyDeprecate-0.3.2 python-bidi-0.4.2 pytorch-lightning-1.6.3 rich-12.4.1 torchmetrics-0.8.2 yarl-1.7.2\n"
          ]
        }
      ],
      "source": [
        "!pip install kraken\n",
        "import kraken"
      ]
    },
    {
      "cell_type": "markdown",
      "metadata": {
        "id": "DoQ2ZNn-RcdS"
      },
      "source": [
        "## Créer les répertoires de travail où nous allons stocker :\n",
        "* les images à traiter (`img`)\n",
        "* le(s) modèle(s) d'OCR (`material`)\n",
        "* les images binarisées (`bin`)\n",
        "* les segmentations des images (`seg`)\n",
        "* les résultats d'OCR (`results`)"
      ]
    },
    {
      "cell_type": "code",
      "execution_count": null,
      "metadata": {
        "id": "SsAUL-L_DQNW"
      },
      "outputs": [],
      "source": [
        "!mkdir img\n",
        "!mkdir img/bin\n",
        "!mkdir img/seg\n",
        "!mkdir material\n",
        "!mkdir results"
      ]
    },
    {
      "cell_type": "markdown",
      "metadata": {
        "id": "ZSLU2lcYQ2Io"
      },
      "source": [
        "## Télécharger le modèle Kraken existant\n",
        "* [Kraken Models](https://gitlab.inria.fr/dh-projects/kraken-models)\n",
        "* [OCR17](https://drive.google.com/file/d/1DfYmJjSeImsU0XyPPVQcwtG92U_bztGp/view)\n",
        "* [LECTAUREP Contemporary French Model (Administration)](https://zenodo.org/record/6542744#.Yoj8wS8it-V)\n",
        "\n",
        "Ensuite, les stocker dans le dossier `material`."
      ]
    },
    {
      "cell_type": "code",
      "source": [
        "from google.colab import files\n",
        "files.upload('/content/material/')"
      ],
      "metadata": {
        "id": "xVyS-RVXskym"
      },
      "execution_count": null,
      "outputs": []
    },
    {
      "cell_type": "markdown",
      "metadata": {
        "id": "_2K__2lWUUD0"
      },
      "source": [
        "## Binariser les images"
      ]
    },
    {
      "cell_type": "code",
      "execution_count": null,
      "metadata": {
        "colab": {
          "base_uri": "https://localhost:8080/"
        },
        "id": "rnxsHUNRT5lj",
        "outputId": "5c4fba43-eb82-4582-f2b8-30b27faf9696"
      },
      "outputs": [
        {
          "output_type": "stream",
          "name": "stdout",
          "text": [
            "Binarizing\t\u001b[0m\u001b[32m✓\u001b[0m\n"
          ]
        }
      ],
      "source": [
        "!kraken -I ./img/M1119_03_R416_005r.jpg -o .png binarize"
      ]
    },
    {
      "cell_type": "markdown",
      "metadata": {
        "id": "-cjscQCNVtM_"
      },
      "source": [
        "##### Déplacer les images binarisées `.jpg` dans le dossier `bin`"
      ]
    },
    {
      "cell_type": "code",
      "execution_count": null,
      "metadata": {
        "id": "8UY8Y0NCUnXK"
      },
      "outputs": [],
      "source": [
        "!mv ./img/*.png ./img/bin/"
      ]
    },
    {
      "cell_type": "markdown",
      "metadata": {
        "id": "-88m85GsU8pv"
      },
      "source": [
        "## Binariser + segmenter les images"
      ]
    },
    {
      "cell_type": "code",
      "execution_count": null,
      "metadata": {
        "colab": {
          "base_uri": "https://localhost:8080/"
        },
        "id": "Tvlw43E0U7Ym",
        "outputId": "3ee60897-df62-4fc1-dd76-1b073ceeccb1"
      },
      "outputs": [
        {
          "output_type": "stream",
          "name": "stdout",
          "text": [
            "Binarizing\t\u001b[0m\u001b[32m✓\u001b[0m\n",
            "WARNING:root:scikit-learn version 1.0.2 is not supported. Minimum required version: 0.17. Maximum required version: 0.19.2. Disabling scikit-learn conversion API.\n",
            "WARNING:root:TensorFlow version 2.8.0 has not been tested with coremltools. You may run into unexpected errors. TensorFlow 2.6.2 is the most recent version that has been tested.\n",
            "WARNING:root:Keras version 2.8.0 has not been tested with coremltools. You may run into unexpected errors. Keras 2.6.0 is the most recent version that has been tested.\n",
            "WARNING:root:Torch version 1.11.0+cu113 has not been tested with coremltools. You may run into unexpected errors. Torch 1.10.2 is the most recent version that has been tested.\n",
            "Segmenting\t\u001b[0m\u001b[32m✓\u001b[0m\n"
          ]
        }
      ],
      "source": [
        "!kraken -I img/*.jpg -o .json binarize segment"
      ]
    },
    {
      "cell_type": "markdown",
      "metadata": {
        "id": "-LjJyaWxV7O7"
      },
      "source": [
        "##### Déplacer les segmentations `.json` dans le dossier `seg`"
      ]
    },
    {
      "cell_type": "code",
      "execution_count": null,
      "metadata": {
        "id": "zP8QstsYVG_H"
      },
      "outputs": [],
      "source": [
        "!mv ./img/*.json ./img/seg/"
      ]
    },
    {
      "cell_type": "markdown",
      "source": [
        "#### Voir la segmentation de l'image"
      ],
      "metadata": {
        "id": "UgO446h7jRJX"
      }
    },
    {
      "cell_type": "code",
      "execution_count": null,
      "metadata": {
        "colab": {
          "base_uri": "https://localhost:8080/"
        },
        "id": "9LO4JghJKqiO",
        "outputId": "b370bf81-4c4d-4b5b-8673-807821cba8e9"
      },
      "outputs": [
        {
          "output_type": "stream",
          "name": "stdout",
          "text": [
            "{\"text_direction\": \"horizontal-lr\", \"boxes\": [[573, 144, 2520, 347], [767, 319, 2468, 442], [2552, 0, 2809, 122], [1114, 507, 2103, 621], [564, 594, 2824, 723], [562, 715, 2840, 823], [559, 815, 2635, 907], [491, 907, 2752, 1023], [553, 1012, 2821, 1128], [550, 1117, 2809, 1233], [1082, 1218, 2043, 1314], [48, 1288, 2840, 1411], [4, 1395, 2836, 1521], [32, 1486, 2381, 1619], [1180, 1597, 1648, 1693], [438, 1687, 2781, 1811], [2217, 1781, 2521, 1851], [537, 1796, 1522, 1915], [1249, 1856, 1684, 1984], [535, 1948, 2802, 2109], [534, 2072, 1497, 2207], [1432, 2152, 1781, 2283], [531, 2272, 2613, 2417], [529, 2384, 2389, 2521], [54, 2564, 2652, 2691], [36, 2677, 2816, 2790], [44, 2752, 1713, 2976], [1347, 2876, 1634, 2949], [330, 2964, 2840, 3101], [523, 3077, 2825, 3188], [462, 3174, 938, 3291], [1220, 3251, 1651, 3369], [521, 3352, 2751, 3483], [1265, 3461, 1640, 3565], [519, 3552, 2781, 3682], [525, 3646, 2735, 3777], [939, 3747, 1092, 3830], [1323, 3770, 1669, 3834], [470, 3853, 2682, 3976], [530, 3971, 2740, 4071]], \"script_detection\": false}"
          ]
        }
      ],
      "source": [
        "!cat ./img/seg/M1119_03_R416_005r.json"
      ]
    },
    {
      "cell_type": "markdown",
      "metadata": {
        "id": "GDICELY7WX1v"
      },
      "source": [
        "## Binariser + segmenter + transcrire"
      ]
    },
    {
      "cell_type": "code",
      "execution_count": null,
      "metadata": {
        "colab": {
          "base_uri": "https://localhost:8080/"
        },
        "id": "hGbLvXVWWIL7",
        "outputId": "44cc1a32-f3e9-457b-ef98-36dbd8d2cbbb"
      },
      "outputs": [
        {
          "output_type": "stream",
          "name": "stdout",
          "text": [
            "WARNING:root:scikit-learn version 1.0.2 is not supported. Minimum required version: 0.17. Maximum required version: 0.19.2. Disabling scikit-learn conversion API.\n",
            "WARNING:root:TensorFlow version 2.8.0 has not been tested with coremltools. You may run into unexpected errors. TensorFlow 2.6.2 is the most recent version that has been tested.\n",
            "WARNING:root:Keras version 2.8.0 has not been tested with coremltools. You may run into unexpected errors. Keras 2.6.0 is the most recent version that has been tested.\n",
            "WARNING:root:Torch version 1.11.0+cu113 has not been tested with coremltools. You may run into unexpected errors. Torch 1.10.2 is the most recent version that has been tested.\n",
            "Loading ANN default\t\u001b[0m\u001b[32m✓\u001b[0m\n",
            "Binarizing\t\u001b[0m\u001b[32m✓\u001b[0m\n",
            "Segmenting\t\u001b[0m\u001b[32m✓\u001b[0m\n",
            "\u001b[2KProcessing \u001b[90m━━━━━━━━━━━━━━━━━━━━━━━━━━━━━━━━━━━━━━━━\u001b[0m \u001b[35m100%\u001b[0m \u001b[35m40/40\u001b[0m \u001b[36m0:00:00\u001b[0m \u001b[33m0:00:26\u001b[0m\n",
            "\u001b[?25hWriting recognition results for ./img/M1119_03_R416_005r.jpg\t\u001b[0m\u001b[32m✓\u001b[0m\n"
          ]
        }
      ],
      "source": [
        "!kraken -I ./img/*.jpg -o .txt binarize segment ocr -m ./material/lectaurep_base.mlmodel"
      ]
    },
    {
      "cell_type": "markdown",
      "metadata": {
        "id": "WRhp6jQsTt6A"
      },
      "source": [
        "## Déplacer les transcriptions `.txt` dans le dossier `results`"
      ]
    },
    {
      "cell_type": "code",
      "execution_count": null,
      "metadata": {
        "id": "c7B1wdNhTUrV"
      },
      "outputs": [],
      "source": [
        "!mv ./img/*.txt ./results"
      ]
    },
    {
      "cell_type": "markdown",
      "metadata": {
        "id": "MuPFNmXcG22a"
      },
      "source": [
        "## Entraîner le modèle"
      ]
    },
    {
      "cell_type": "markdown",
      "metadata": {
        "id": "twWAcyjXHmAJ"
      },
      "source": [
        "### Création des données d'entraînement (vérité-terrain, angl. _ground truth_)"
      ]
    },
    {
      "cell_type": "markdown",
      "metadata": {
        "id": "cqiyKuYRZH1i"
      },
      "source": [
        "##### Génération de l'interface de transcription"
      ]
    },
    {
      "cell_type": "code",
      "execution_count": null,
      "metadata": {
        "colab": {
          "base_uri": "https://localhost:8080/"
        },
        "id": "c7Bv7GAAYQI_",
        "outputId": "e9ccbe6f-d846-45d2-e529-aa1ad8567bf0"
      },
      "outputs": [
        {
          "output_type": "stream",
          "name": "stdout",
          "text": [
            "WARNING:root:scikit-learn version 1.0.2 is not supported. Minimum required version: 0.17. Maximum required version: 0.19.2. Disabling scikit-learn conversion API.\n",
            "WARNING:root:TensorFlow version 2.8.0 has not been tested with coremltools. You may run into unexpected errors. TensorFlow 2.6.2 is the most recent version that has been tested.\n",
            "WARNING:root:Keras version 2.8.0 has not been tested with coremltools. You may run into unexpected errors. Keras 2.6.0 is the most recent version that has been tested.\n",
            "WARNING:root:Torch version 1.11.0+cu113 has not been tested with coremltools. You may run into unexpected errors. Torch 1.10.2 is the most recent version that has been tested.\n",
            "\u001b[2KReading images \u001b[90m━━━━━━━━━━━━━━━━━━━━━━━━━━━━━━━━━━━━━━━━\u001b[0m \u001b[35m100%\u001b[0m \u001b[35m1/1\u001b[0m \u001b[36m0:00:00\u001b[0m \u001b[33m0:00:55\u001b[0m\n",
            "\u001b[?25hWriting output \u001b[0m\u001b[32m✓\u001b[0m\n"
          ]
        }
      ],
      "source": [
        "!ketos transcribe -o ./material/test.html ./img/M1119_03_R416_005r.jpg"
      ]
    },
    {
      "cell_type": "markdown",
      "source": [
        "#### Télécharger le fichier HTML de l'interface de transcription"
      ],
      "metadata": {
        "id": "PsBeCO4_l6HM"
      }
    },
    {
      "cell_type": "code",
      "source": [
        "from google.colab import files\n",
        "files.download('/content/material/test.html')"
      ],
      "metadata": {
        "colab": {
          "base_uri": "https://localhost:8080/",
          "height": 17
        },
        "id": "Kjfu_ZazhDrJ",
        "outputId": "789c3472-9998-468d-bb08-e7e44b420b76"
      },
      "execution_count": null,
      "outputs": [
        {
          "output_type": "display_data",
          "data": {
            "text/plain": [
              "<IPython.core.display.Javascript object>"
            ],
            "application/javascript": [
              "\n",
              "    async function download(id, filename, size) {\n",
              "      if (!google.colab.kernel.accessAllowed) {\n",
              "        return;\n",
              "      }\n",
              "      const div = document.createElement('div');\n",
              "      const label = document.createElement('label');\n",
              "      label.textContent = `Downloading \"${filename}\": `;\n",
              "      div.appendChild(label);\n",
              "      const progress = document.createElement('progress');\n",
              "      progress.max = size;\n",
              "      div.appendChild(progress);\n",
              "      document.body.appendChild(div);\n",
              "\n",
              "      const buffers = [];\n",
              "      let downloaded = 0;\n",
              "\n",
              "      const channel = await google.colab.kernel.comms.open(id);\n",
              "      // Send a message to notify the kernel that we're ready.\n",
              "      channel.send({})\n",
              "\n",
              "      for await (const message of channel.messages) {\n",
              "        // Send a message to notify the kernel that we're ready.\n",
              "        channel.send({})\n",
              "        if (message.buffers) {\n",
              "          for (const buffer of message.buffers) {\n",
              "            buffers.push(buffer);\n",
              "            downloaded += buffer.byteLength;\n",
              "            progress.value = downloaded;\n",
              "          }\n",
              "        }\n",
              "      }\n",
              "      const blob = new Blob(buffers, {type: 'application/binary'});\n",
              "      const a = document.createElement('a');\n",
              "      a.href = window.URL.createObjectURL(blob);\n",
              "      a.download = filename;\n",
              "      div.appendChild(a);\n",
              "      a.click();\n",
              "      div.remove();\n",
              "    }\n",
              "  "
            ]
          },
          "metadata": {}
        },
        {
          "output_type": "display_data",
          "data": {
            "text/plain": [
              "<IPython.core.display.Javascript object>"
            ],
            "application/javascript": [
              "download(\"download_2492bd97-7c9b-4076-8074-b75742e3adf7\", \"test.html\", 14722595)"
            ]
          },
          "metadata": {}
        }
      ]
    },
    {
      "cell_type": "markdown",
      "metadata": {
        "id": "Q7W20kr-aWYU"
      },
      "source": [
        "#####  Pré-remplir l'interface de transcription pour accélérer la création de vérité-terrain\n",
        "⚠️ **BUG** Les lignes transcrites d'HTML `<li>` ne s'affichent pas dans le navigateur."
      ]
    },
    {
      "cell_type": "code",
      "source": [
        "!ketos transcribe -o material/test_prefill.html --prefill /content/material/lectaurep_base.mlmodel /content/img/M1119_03_R416_005r.jpg"
      ],
      "metadata": {
        "colab": {
          "base_uri": "https://localhost:8080/"
        },
        "id": "aDo4qTLjhlh-",
        "outputId": "6a228f11-289a-484d-f542-467fbf417266"
      },
      "execution_count": null,
      "outputs": [
        {
          "output_type": "stream",
          "name": "stdout",
          "text": [
            "WARNING:root:scikit-learn version 1.0.2 is not supported. Minimum required version: 0.17. Maximum required version: 0.19.2. Disabling scikit-learn conversion API.\n",
            "WARNING:root:TensorFlow version 2.8.0 has not been tested with coremltools. You may run into unexpected errors. TensorFlow 2.6.2 is the most recent version that has been tested.\n",
            "WARNING:root:Keras version 2.8.0 has not been tested with coremltools. You may run into unexpected errors. Keras 2.6.0 is the most recent version that has been tested.\n",
            "WARNING:root:Torch version 1.11.0+cu113 has not been tested with coremltools. You may run into unexpected errors. Torch 1.10.2 is the most recent version that has been tested.\n",
            "Loading ANN\u001b[0m\u001b[32m✓\u001b[0m\n",
            "\u001b[2KReading images \u001b[90m━━━━━━━━━━━━━━━━━━━━━━━━━━━━━━━━━━━━━━━━\u001b[0m \u001b[35m100%\u001b[0m \u001b[35m1/1\u001b[0m \u001b[36m0:00:00\u001b[0m \u001b[33m0:01:22\u001b[0m\n",
            "\u001b[?25hWriting output \u001b[0m\u001b[32m✓\u001b[0m\n"
          ]
        }
      ]
    },
    {
      "cell_type": "code",
      "source": [
        "from google.colab import files\n",
        "files.download('/content/material/test_prefill.html')"
      ],
      "metadata": {
        "colab": {
          "base_uri": "https://localhost:8080/",
          "height": 17
        },
        "id": "LNZXJPtThwa4",
        "outputId": "b565a549-a76a-4ee2-83df-f20df3c8afcf"
      },
      "execution_count": null,
      "outputs": [
        {
          "output_type": "display_data",
          "data": {
            "text/plain": [
              "<IPython.core.display.Javascript object>"
            ],
            "application/javascript": [
              "\n",
              "    async function download(id, filename, size) {\n",
              "      if (!google.colab.kernel.accessAllowed) {\n",
              "        return;\n",
              "      }\n",
              "      const div = document.createElement('div');\n",
              "      const label = document.createElement('label');\n",
              "      label.textContent = `Downloading \"${filename}\": `;\n",
              "      div.appendChild(label);\n",
              "      const progress = document.createElement('progress');\n",
              "      progress.max = size;\n",
              "      div.appendChild(progress);\n",
              "      document.body.appendChild(div);\n",
              "\n",
              "      const buffers = [];\n",
              "      let downloaded = 0;\n",
              "\n",
              "      const channel = await google.colab.kernel.comms.open(id);\n",
              "      // Send a message to notify the kernel that we're ready.\n",
              "      channel.send({})\n",
              "\n",
              "      for await (const message of channel.messages) {\n",
              "        // Send a message to notify the kernel that we're ready.\n",
              "        channel.send({})\n",
              "        if (message.buffers) {\n",
              "          for (const buffer of message.buffers) {\n",
              "            buffers.push(buffer);\n",
              "            downloaded += buffer.byteLength;\n",
              "            progress.value = downloaded;\n",
              "          }\n",
              "        }\n",
              "      }\n",
              "      const blob = new Blob(buffers, {type: 'application/binary'});\n",
              "      const a = document.createElement('a');\n",
              "      a.href = window.URL.createObjectURL(blob);\n",
              "      a.download = filename;\n",
              "      div.appendChild(a);\n",
              "      a.click();\n",
              "      div.remove();\n",
              "    }\n",
              "  "
            ]
          },
          "metadata": {}
        },
        {
          "output_type": "display_data",
          "data": {
            "text/plain": [
              "<IPython.core.display.Javascript object>"
            ],
            "application/javascript": [
              "download(\"download_e2313d05-d16a-4b69-9f0b-cf5fd2f245fa\", \"test_prefill.html\", 14725297)"
            ]
          },
          "metadata": {}
        }
      ]
    },
    {
      "cell_type": "markdown",
      "metadata": {
        "id": "gX_T4RwjS5m3"
      },
      "source": [
        "## Le traitement (océrisation) par lots (angl. _batch processing_)"
      ]
    },
    {
      "cell_type": "code",
      "execution_count": null,
      "metadata": {
        "colab": {
          "base_uri": "https://localhost:8080/"
        },
        "id": "KfU8z8zOK9c7",
        "outputId": "78968ce5-083b-44d4-fb39-c539115c5591"
      },
      "outputs": [
        {
          "output_type": "stream",
          "name": "stdout",
          "text": [
            "WARNING:root:scikit-learn version 1.0.2 is not supported. Minimum required version: 0.17. Maximum required version: 0.19.2. Disabling scikit-learn conversion API.\n",
            "WARNING:root:TensorFlow version 2.8.0 has not been tested with coremltools. You may run into unexpected errors. TensorFlow 2.6.2 is the most recent version that has been tested.\n",
            "WARNING:root:Keras version 2.8.0 has not been tested with coremltools. You may run into unexpected errors. Keras 2.6.0 is the most recent version that has been tested.\n",
            "WARNING:root:Torch version 1.11.0+cu113 has not been tested with coremltools. You may run into unexpected errors. Torch 1.10.2 is the most recent version that has been tested.\n",
            "Loading ANN default\t\u001b[0m\u001b[32m✓\u001b[0m\n",
            "Binarizing\t\u001b[0m\u001b[32m✓\u001b[0m\n",
            "Segmenting\t\u001b[0m\u001b[32m✓\u001b[0m\n",
            "\u001b[2KProcessing \u001b[90m━━━━━━━━━━━━━━━━━━━━━━━━━━━━━━━━━━━━━━━━\u001b[0m \u001b[35m100%\u001b[0m \u001b[35m22/22\u001b[0m \u001b[36m0:00:00\u001b[0m \u001b[33m0:00:12\u001b[0m\n",
            "\u001b[?25hWriting recognition results for ./img/M1119_03_R416_006v.jpg\t\u001b[0m\u001b[32m✓\u001b[0m\n",
            "Binarizing\t\u001b[0m\u001b[32m✓\u001b[0m\n",
            "Segmenting\t\u001b[0m\u001b[32m✓\u001b[0m\n",
            "\u001b[2KProcessing \u001b[90m━━━━━━━━━━━━━━━━━━━━━━━━━━━━━━━━━━━━━━━━\u001b[0m \u001b[35m100%\u001b[0m \u001b[35m17/17\u001b[0m \u001b[36m0:00:00\u001b[0m \u001b[33m0:00:12\u001b[0m\n",
            "\u001b[?25hWriting recognition results for ./img/M1119_03_R416_007r.jpg\t\u001b[0m\u001b[32m✓\u001b[0m\n",
            "Binarizing\t\u001b[0m\u001b[32m✓\u001b[0m\n",
            "Segmenting\t\u001b[0m\u001b[32m✓\u001b[0m\n",
            "\u001b[2KProcessing \u001b[90m━━━━━━━━━━━━━━━━━━━━━━━━━━━━━━━━━━━━━━━━\u001b[0m \u001b[35m100%\u001b[0m \u001b[35m37/37\u001b[0m \u001b[36m0:00:00\u001b[0m \u001b[33m0:00:28\u001b[0m\n",
            "\u001b[?25hWriting recognition results for ./img/M1119_03_R416_008v.jpg\t\u001b[0m\u001b[32m✓\u001b[0m\n",
            "Binarizing\t\u001b[0m\u001b[32m✓\u001b[0m\n",
            "Segmenting\t\u001b[0m\u001b[32m✓\u001b[0m\n",
            "\u001b[2KProcessing \u001b[90m━━━━━━━━━━━━━━━━━━━━━━━━━━━━━━━━━━━━━━━━\u001b[0m \u001b[35m100%\u001b[0m \u001b[35m45/45\u001b[0m \u001b[36m0:00:00\u001b[0m \u001b[33m0:00:24\u001b[0m\n",
            "\u001b[?25hWriting recognition results for ./img/M1119_03_R416_011r.jpg\t\u001b[0m\u001b[32m✓\u001b[0m\n",
            "Binarizing\t\u001b[0m\u001b[32m✓\u001b[0m\n",
            "Segmenting\t\u001b[0m\u001b[32m✓\u001b[0m\n",
            "\u001b[2KProcessing \u001b[90m━━━━━━━━━━━━━━━━━━━━━━━━━━━━━━━━━━━━━━━━\u001b[0m \u001b[35m100%\u001b[0m \u001b[35m48/48\u001b[0m \u001b[36m0:00:00\u001b[0m \u001b[33m0:00:24\u001b[0m\n",
            "\u001b[?25hWriting recognition results for ./img/M1119_03_R416_010v.jpg\t\u001b[0m\u001b[32m✓\u001b[0m\n",
            "Binarizing\t\u001b[0m\u001b[32m✓\u001b[0m\n",
            "Segmenting\t\u001b[0m\u001b[32m✓\u001b[0m\n",
            "\u001b[2KProcessing \u001b[90m━━━━━━━━━━━━━━━━━━━━━━━━━━━━━━━━━━━━━━━━\u001b[0m \u001b[35m100%\u001b[0m \u001b[35m54/54\u001b[0m \u001b[36m0:00:00\u001b[0m \u001b[33m0:00:24\u001b[0m\n",
            "\u001b[?25hWriting recognition results for ./img/M1119_03_R416_009r.jpg\t\u001b[0m\u001b[32m✓\u001b[0m\n",
            "Binarizing\t\u001b[0m\u001b[32m✓\u001b[0m\n",
            "Segmenting\t\u001b[0m\u001b[32m✓\u001b[0m\n",
            "\u001b[2KProcessing \u001b[90m━━━━━━━━━━━━━━━━━━━━━━━━━━━━━━━━━━━━━━━━\u001b[0m \u001b[35m100%\u001b[0m \u001b[35m40/40\u001b[0m \u001b[36m0:00:00\u001b[0m \u001b[33m0:00:27\u001b[0m\n",
            "\u001b[?25hWriting recognition results for ./img/M1119_03_R416_005r.jpg\t\u001b[0m\u001b[32m✓\u001b[0m\n",
            "Binarizing\t\u001b[0m\u001b[32m✓\u001b[0m\n",
            "Segmenting\t\u001b[0m\u001b[32m✓\u001b[0m\n",
            "\u001b[2KProcessing \u001b[90m━━━━━━━━━━━━━━━━━━━━━━━━━━━━━━━━━━━━━━━━\u001b[0m \u001b[35m100%\u001b[0m \u001b[35m24/24\u001b[0m \u001b[36m0:00:00\u001b[0m \u001b[33m0:00:17\u001b[0m\n",
            "\u001b[?25hWriting recognition results for ./img/M1119_03_R416_012v.jpg\t\u001b[0m\u001b[32m✓\u001b[0m\n",
            "Binarizing\t\u001b[0m\u001b[32m✓\u001b[0m\n",
            "Segmenting\t\u001b[0m\u001b[32m✓\u001b[0m\n",
            "\u001b[2KProcessing \u001b[90m━━━━━━━━━━━━━━━━━━━━━━━━━━━━━━━━━━━━━━━━\u001b[0m \u001b[35m100%\u001b[0m \u001b[35m43/43\u001b[0m \u001b[36m0:00:00\u001b[0m \u001b[33m0:00:25\u001b[0m\n",
            "\u001b[?25hWriting recognition results for ./img/M1119_03_R416_013r.jpg\t\u001b[0m\u001b[32m✓\u001b[0m\n",
            "Binarizing\t\u001b[0m\u001b[32m✓\u001b[0m\n",
            "Segmenting\t\u001b[0m\u001b[32m✓\u001b[0m\n",
            "\u001b[2KProcessing \u001b[90m━━━━━━━━━━━━━━━━━━━━━━━━━━━━━━━━━━━━━━━━\u001b[0m \u001b[35m100%\u001b[0m \u001b[35m14/14\u001b[0m \u001b[36m0:00:00\u001b[0m \u001b[33m0:00:09\u001b[0m\n",
            "\u001b[?25hWriting recognition results for ./img/M1119_03_R416_014v.jpg\t\u001b[0m\u001b[32m✓\u001b[0m\n"
          ]
        }
      ],
      "source": [
        "!kraken -I \"./img/*.jpg\" -o .txt binarize segment ocr -m ./material/lectaurep_base.mlmodel"
      ]
    },
    {
      "cell_type": "markdown",
      "source": [
        "## Déplacer les transcriptions `.txt` dans le dossier `results`"
      ],
      "metadata": {
        "id": "A3-iXC41p121"
      }
    },
    {
      "cell_type": "code",
      "execution_count": null,
      "metadata": {
        "id": "p-coQcuUOVxE"
      },
      "outputs": [],
      "source": [
        "!mv ./img/*.txt ./results"
      ]
    },
    {
      "cell_type": "markdown",
      "metadata": {
        "id": "zHQxdmGWOWma"
      },
      "source": [
        "## _Fine-tuner_ le modèle"
      ]
    },
    {
      "cell_type": "code",
      "execution_count": null,
      "metadata": {
        "colab": {
          "base_uri": "https://localhost:8080/"
        },
        "id": "kOs-WP45KZI4",
        "outputId": "f58d5996-7642-465f-ad67-7cb45ed0f791"
      },
      "outputs": [
        {
          "name": "stdout",
          "output_type": "stream",
          "text": [
            "WARNING:root:scikit-learn version 1.0.2 is not supported. Minimum required version: 0.17. Maximum required version: 0.19.2. Disabling scikit-learn conversion API.\n",
            "WARNING:root:TensorFlow version 2.8.0 has not been tested with coremltools. You may run into unexpected errors. TensorFlow 2.6.2 is the most recent version that has been tested.\n",
            "WARNING:root:Keras version 2.8.0 has not been tested with coremltools. You may run into unexpected errors. Keras 2.6.0 is the most recent version that has been tested.\n",
            "WARNING:root:Torch version 1.11.0+cu113 has not been tested with coremltools. You may run into unexpected errors. Torch 1.10.2 is the most recent version that has been tested.\n",
            "Loading ANN\u001b[0m\u001b[32m✓\u001b[0m\n",
            "\u001b[2KReading images \u001b[90m━━━━━━━━━━━━━━━━━━━━━━━━━━━━━━━━━━━━━━━━\u001b[0m \u001b[35m100%\u001b[0m \u001b[35m1/1\u001b[0m \u001b[36m0:00:00\u001b[0m \u001b[33m0:01:21\u001b[0m\n",
            "\u001b[?25hWriting output \u001b[0m\u001b[32m✓\u001b[0m\n"
          ]
        }
      ],
      "source": [
        "!ketos transcribe --prefill ./material/riant_ftmrs15_12.mlmodel -o ./material/test_prefill.html ./img/M1119_03_R416_005r.jpg"
      ]
    },
    {
      "cell_type": "code",
      "execution_count": null,
      "metadata": {
        "colab": {
          "base_uri": "https://localhost:8080/"
        },
        "id": "msmp_r7NEfk5",
        "outputId": "5f4fd318-be6f-471d-c9da-0d420d89363e"
      },
      "outputs": [
        {
          "name": "stdout",
          "output_type": "stream",
          "text": [
            "WARNING:root:scikit-learn version 1.0.2 is not supported. Minimum required version: 0.17. Maximum required version: 0.19.2. Disabling scikit-learn conversion API.\n",
            "WARNING:root:TensorFlow version 2.8.0 has not been tested with coremltools. You may run into unexpected errors. TensorFlow 2.6.2 is the most recent version that has been tested.\n",
            "WARNING:root:Keras version 2.8.0 has not been tested with coremltools. You may run into unexpected errors. Keras 2.6.0 is the most recent version that has been tested.\n",
            "WARNING:root:Torch version 1.11.0+cu113 has not been tested with coremltools. You may run into unexpected errors. Torch 1.10.2 is the most recent version that has been tested.\n",
            "Loading ANN\u001b[0m\u001b[32m✓\u001b[0m\n",
            "\u001b[2KReading images \u001b[90m━━━━━━━━━━━━━━━━━━━━━━━━━━━━━━━━━━━━━━━━\u001b[0m \u001b[35m100%\u001b[0m \u001b[35m1/1\u001b[0m \u001b[36m0:00:00\u001b[0m \u001b[33m0:01:16\u001b[0m\n",
            "\u001b[?25hWriting output \u001b[0m\u001b[32m✓\u001b[0m\n"
          ]
        }
      ],
      "source": [
        "!ketos transcribe -o ./material/test_prefill.html --prefill ./material/riant_ftmrs15_12.mlmodel ./img/M1119_03_R416_005r.jpg"
      ]
    },
    {
      "cell_type": "code",
      "execution_count": null,
      "metadata": {
        "id": "UdYS23EUStD8"
      },
      "outputs": [],
      "source": [
        ""
      ]
    }
  ],
  "metadata": {
    "colab": {
      "name": "Kraken_L.ipynb",
      "provenance": [],
      "collapsed_sections": []
    },
    "kernelspec": {
      "display_name": "Python 3 (ipykernel)",
      "language": "python",
      "name": "python3"
    },
    "language_info": {
      "codemirror_mode": {
        "name": "ipython",
        "version": 3
      },
      "file_extension": ".py",
      "mimetype": "text/x-python",
      "name": "python",
      "nbconvert_exporter": "python",
      "pygments_lexer": "ipython3",
      "version": "3.9.12"
    }
  },
  "nbformat": 4,
  "nbformat_minor": 0
}